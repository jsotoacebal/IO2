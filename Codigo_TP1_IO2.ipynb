{
  "nbformat": 4,
  "nbformat_minor": 0,
  "metadata": {
    "colab": {
      "provenance": [],
      "authorship_tag": "ABX9TyMnr+2K1RD9K1trnjdLwJ98",
      "include_colab_link": true
    },
    "kernelspec": {
      "name": "python3",
      "display_name": "Python 3"
    },
    "language_info": {
      "name": "python"
    }
  },
  "cells": [
    {
      "cell_type": "markdown",
      "metadata": {
        "id": "view-in-github",
        "colab_type": "text"
      },
      "source": [
        "<a href=\"https://colab.research.google.com/github/jsotoacebal/IO2/blob/main/Codigo_TP1_IO2.ipynb\" target=\"_parent\"><img src=\"https://colab.research.google.com/assets/colab-badge.svg\" alt=\"Open In Colab\"/></a>"
      ]
    },
    {
      "cell_type": "markdown",
      "source": [
        "#Lobo tira todas las paredes"
      ],
      "metadata": {
        "id": "zi2ZvZCezdFH"
      }
    },
    {
      "cell_type": "code",
      "execution_count": null,
      "metadata": {
        "id": "UQ4ZZWYzzZ4P"
      },
      "outputs": [],
      "source": [
        "import random\n",
        "import csv\n",
        "\n",
        "def jugar_tres_cerditos(cantidad_jugadores):\n",
        "    colores = [\"Celeste\", \"Violeta\", \"Amarillo\", \"Verde\", \"Rojo\", \"Negro\"]\n",
        "    casa = {color: False for color in colores}\n",
        "    jugadores = list(range(1, cantidad_jugadores + 1))\n",
        "    rondas = 0\n",
        "    ganador = None\n",
        "\n",
        "    while True:\n",
        "        rondas += 1\n",
        "        for jugador in jugadores:\n",
        "            dado = random.choice(colores)\n",
        "\n",
        "            if dado == \"Negro\":\n",
        "                casa[dado] = True\n",
        "            else:\n",
        "                if not casa[dado]:\n",
        "                    casa[dado] = True\n",
        "                else:\n",
        "                    pass\n",
        "\n",
        "            if all(casa[color] for color in colores[:-1]) and not casa[\"Rojo\"]:\n",
        "                casa[\"Rojo\"] = True\n",
        "\n",
        "            if all(casa[color] for color in colores):\n",
        "                ganador = jugador\n",
        "                break\n",
        "\n",
        "        if ganador is not None:\n",
        "            break\n",
        "\n",
        "    tiempo = random.randint(2, 8) * rondas * cantidad_jugadores\n",
        "    return jugadores, rondas, tiempo\n",
        "\n",
        "if __name__ == \"__main__\":\n",
        "    repeticiones = 1000\n",
        "    jugadores_list = [2, 3, 4, 5, 6]\n",
        "    resultados = []\n",
        "\n",
        "    for jugadores in jugadores_list:\n",
        "        for _ in range(repeticiones):\n",
        "            jugadores_res, rondas, tiempo = jugar_tres_cerditos(jugadores)\n",
        "            resultados.append([jugadores_res, rondas, tiempo])\n",
        "            print(f\"{jugadores_res} , {rondas} , {tiempo}\")\n",
        "\n",
        "    with open(\"resultados_tres_cerditos.csv\", \"w\", newline=\"\") as file:\n",
        "        writer = csv.writer(file)\n",
        "        writer.writerow([\"Jugadores\", \"Rondas\", \"Tiempo\"])\n",
        "        writer.writerows(resultados)\n",
        "\n",
        "    print(\"Resultados guardados en resultados_tres_cerditos_14_1.csv\")\n"
      ]
    },
    {
      "cell_type": "markdown",
      "source": [
        "#Lobo tira una pared"
      ],
      "metadata": {
        "id": "G2BIOH2lzg81"
      }
    },
    {
      "cell_type": "code",
      "source": [
        "import random\n",
        "import csv\n",
        "\n",
        "def jugar_tres_cerditos(cantidad_jugadores):\n",
        "    colores = [\"Celeste\", \"Violeta\", \"Amarillo\", \"Verde\", \"Rojo\", \"Negro\"]\n",
        "    jugadores_casas = {jugador: {color: False for color in colores} for jugador in range(1, cantidad_jugadores + 1)}\n",
        "    rondas = 0\n",
        "    ganador = None\n",
        "\n",
        "    while True:\n",
        "        rondas += 1\n",
        "        for jugador, casa in jugadores_casas.items():\n",
        "            dado = random.choice(colores)\n",
        "\n",
        "            if dado == \"Negro\":\n",
        "                colors_a_eliminar = [color for color, recolectada in casa.items() if recolectada]\n",
        "                if colors_a_eliminar:\n",
        "                    color_a_eliminar = random.choice(colors_a_eliminar)\n",
        "                    casa[color_a_eliminar] = False\n",
        "            else:\n",
        "                if not casa[dado]:\n",
        "                    casa[dado] = True\n",
        "\n",
        "            if all(casa[color] for color in colores[:-1]) and not casa[\"Rojo\"]:\n",
        "                casa[\"Rojo\"] = True\n",
        "\n",
        "            if all(casa[color] for color in colores[:-1]) and all(casa[color] for color in colores[:-1]):\n",
        "                ganador = jugador\n",
        "                break\n",
        "\n",
        "        if ganador is not None:\n",
        "            break\n",
        "\n",
        "    tiempo = rondas * cantidad_jugadores * random.randint(2, 8)\n",
        "    return jugadores_casas, rondas, tiempo\n",
        "\n",
        "if __name__ == \"__main__\":\n",
        "    repeticiones = 1000\n",
        "    jugadores_list = [2, 3, 4, 5, 6]\n",
        "    resultados = []\n",
        "\n",
        "    for jugadores in jugadores_list:\n",
        "        for _ in range(repeticiones):\n",
        "            jugadores_res, rondas, tiempo = jugar_tres_cerditos(jugadores)\n",
        "            resultados.append([jugadores_res, rondas, tiempo])\n",
        "\n",
        "    with open(\"resultados_tres_cerditos.csv\", \"w\", newline=\"\") as file:\n",
        "        writer = csv.writer(file)\n",
        "        writer.writerow([\"Jugadores\", \"Rondas\", \"Tiempo\"])\n",
        "        writer.writerows(resultados)\n",
        "\n",
        "    print(\"Resultados guardados en resultados_tres_cerditos.csv\")\n"
      ],
      "metadata": {
        "id": "lTg9kq99ziSL"
      },
      "execution_count": null,
      "outputs": []
    }
  ]
}